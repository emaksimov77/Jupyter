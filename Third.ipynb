{
  "nbformat": 4,
  "nbformat_minor": 0,
  "metadata": {
    "colab": {
      "name": "Third.ipynb",
      "provenance": [],
      "collapsed_sections": [],
      "authorship_tag": "ABX9TyM6nW80MhHWFz7vD8taSMmO",
      "include_colab_link": true
    },
    "kernelspec": {
      "name": "python3",
      "display_name": "Python 3"
    },
    "language_info": {
      "name": "python"
    }
  },
  "cells": [
    {
      "cell_type": "markdown",
      "metadata": {
        "id": "view-in-github",
        "colab_type": "text"
      },
      "source": [
        "<a href=\"https://colab.research.google.com/github/emaksimov77/Jupyter/blob/develop/Third.ipynb\" target=\"_parent\"><img src=\"https://colab.research.google.com/assets/colab-badge.svg\" alt=\"Open In Colab\"/></a>"
      ]
    },
    {
      "cell_type": "markdown",
      "source": [
        "# Третий файл"
      ],
      "metadata": {
        "id": "VKwVWn5Kya1V"
      }
    },
    {
      "cell_type": "markdown",
      "source": [
        ""
      ],
      "metadata": {
        "id": "mAQRa6212oAE"
      }
    },
    {
      "cell_type": "code",
      "execution_count": 11,
      "metadata": {
        "colab": {
          "base_uri": "https://localhost:8080/"
        },
        "id": "Wwky1Z-cxyMx",
        "outputId": "d3d5283e-99d2-4806-bebf-37bafdc6468a"
      },
      "outputs": [
        {
          "output_type": "stream",
          "name": "stdout",
          "text": [
            "Hello World\n"
          ]
        }
      ],
      "source": [
        "print('Hello World')"
      ]
    },
    {
      "cell_type": "markdown",
      "source": [
        "$\\sqrt{3-y}+(1+z)^3$"
      ],
      "metadata": {
        "id": "ImMl7F9M2uxz"
      }
    },
    {
      "cell_type": "code",
      "source": [
        "def fibonacci(sequence_length):\n",
        "  sequence = [0,1]\n",
        "  if sequence_length < 1:\n",
        "    print (\"Последовательность Фибоначчи не может иметь длину, меньшую 1.\") \n",
        "    return\n",
        "  if 0 < sequence_length < 3:\n",
        "    return sequence[0:sequence_length]\n",
        "  for i in range(2,sequence_length):\n",
        "    sequence.append(sequence[i-1]+sequence[i-2])\n",
        "    return sequence\n",
        "\n",
        "fibonacci(12)"
      ],
      "metadata": {
        "colab": {
          "base_uri": "https://localhost:8080/"
        },
        "id": "I7b2a0tS4myw",
        "outputId": "a04541df-fcdc-4937-bea0-854c6cb4e26d"
      },
      "execution_count": 12,
      "outputs": [
        {
          "output_type": "execute_result",
          "data": {
            "text/plain": [
              "[0, 1, 1]"
            ]
          },
          "metadata": {},
          "execution_count": 12
        }
      ]
    }
  ]
}