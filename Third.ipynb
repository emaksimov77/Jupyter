{
  "nbformat": 4,
  "nbformat_minor": 0,
  "metadata": {
    "colab": {
      "name": "Third.ipynb",
      "provenance": [],
      "collapsed_sections": [],
      "authorship_tag": "ABX9TyOnCAPiNXwvPfqszvKhf8nc",
      "include_colab_link": true
    },
    "kernelspec": {
      "name": "python3",
      "display_name": "Python 3"
    },
    "language_info": {
      "name": "python"
    }
  },
  "cells": [
    {
      "cell_type": "markdown",
      "metadata": {
        "id": "view-in-github",
        "colab_type": "text"
      },
      "source": [
        "<a href=\"https://colab.research.google.com/github/emaksimov77/Jupyter/blob/develop/Third.ipynb\" target=\"_parent\"><img src=\"https://colab.research.google.com/assets/colab-badge.svg\" alt=\"Open In Colab\"/></a>"
      ]
    },
    {
      "cell_type": "markdown",
      "source": [
        "# Третий файл"
      ],
      "metadata": {
        "id": "VKwVWn5Kya1V"
      }
    },
    {
      "cell_type": "markdown",
      "source": [
        ""
      ],
      "metadata": {
        "id": "mAQRa6212oAE"
      }
    },
    {
      "cell_type": "code",
      "execution_count": 15,
      "metadata": {
        "colab": {
          "base_uri": "https://localhost:8080/"
        },
        "id": "Wwky1Z-cxyMx",
        "outputId": "c891a496-1492-47eb-bf01-a0b4146f7e9d"
      },
      "outputs": [
        {
          "output_type": "stream",
          "name": "stdout",
          "text": [
            "Hello World\n"
          ]
        }
      ],
      "source": [
        "print('Hello World')"
      ]
    },
    {
      "cell_type": "markdown",
      "source": [
        "$\\sqrt{3-y}+(1+z)^3$"
      ],
      "metadata": {
        "id": "ImMl7F9M2uxz"
      }
    },
    {
      "cell_type": "code",
      "source": [
        "def fibonacci(sequence_length):\n",
        "  sequence = [0,1]\n",
        "  if sequence_length < 1:\n",
        "    print (\"Последовательность Фибоначчи не может иметь длину, меньшую 1.\") \n",
        "    return\n",
        "  if 0 < sequence_length < 3:\n",
        "    return sequence[0:sequence_length]\n",
        "  for i in range(2,sequence_length):\n",
        "    sequence.append(sequence[i-1]+sequence[i-2])\n",
        "  return sequence\n"
      ],
      "metadata": {
        "id": "I7b2a0tS4myw"
      },
      "execution_count": 29,
      "outputs": []
    },
    {
      "cell_type": "code",
      "source": [
        "fibonacci(12)"
      ],
      "metadata": {
        "colab": {
          "base_uri": "https://localhost:8080/"
        },
        "id": "S3khNbv59y3E",
        "outputId": "4318f081-00d6-47ae-bd58-36357fcb7a9c"
      },
      "execution_count": 32,
      "outputs": [
        {
          "output_type": "execute_result",
          "data": {
            "text/plain": [
              "[0, 1, 1, 2, 3, 5, 8, 13, 21, 34, 55, 89]"
            ]
          },
          "metadata": {},
          "execution_count": 32
        }
      ]
    }
  ]
}